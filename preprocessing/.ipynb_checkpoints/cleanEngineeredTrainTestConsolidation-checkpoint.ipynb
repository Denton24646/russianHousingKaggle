{
 "cells": [
  {
   "cell_type": "code",
   "execution_count": null,
   "metadata": {
    "collapsed": true
   },
   "outputs": [],
   "source": [
    "import pandas as pd\n",
    "\n",
    "'''\n",
    "This script reduces the cleanEngineeredTest/Train sets to only the set\n",
    "of features which they both have. The feature engineering produced some\n",
    "features only in one of the train or test sets.\n",
    "'''\n",
    "\n",
    "df_train = pd.read_csv('../data/cleanEngineeredTrain.csv')\n",
    "df_test = pd.read_csv('../data/cleanEngineeredTest.csv')"
   ]
  },
  {
   "cell_type": "code",
   "execution_count": null,
   "metadata": {
    "collapsed": true
   },
   "outputs": [],
   "source": [
    "# what column values are different?\n",
    "testMissing = set(list(df_train.columns.values)) - set(list(df_test.columns.values))\n",
    "trainMissing = set(list(df_test.columns.values)) - set(list(df_train.columns.values))\n",
    "testMissing.remove('price_doc')\n",
    "\n",
    "print \"training set is missing these columns which test set has\"\n",
    "pp.pprint(trainMissing)\n",
    "print \"test set is missing these columns which training set has\"\n",
    "pp.pprint(testMissing)\n",
    "\n",
    "df_train.drop(testMissing, 1, inplace = True)\n",
    "df_test.drop(trainMissing, 1, inplace = True)"
   ]
  }
 ],
 "metadata": {
  "kernelspec": {
   "display_name": "Python 2",
   "language": "python",
   "name": "python2"
  },
  "language_info": {
   "codemirror_mode": {
    "name": "ipython",
    "version": 2
   },
   "file_extension": ".py",
   "mimetype": "text/x-python",
   "name": "python",
   "nbconvert_exporter": "python",
   "pygments_lexer": "ipython2",
   "version": "2.7.13"
  }
 },
 "nbformat": 4,
 "nbformat_minor": 2
}
